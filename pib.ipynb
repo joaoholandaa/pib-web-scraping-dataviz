{
 "cells": [
  {
   "cell_type": "code",
   "execution_count": 1,
   "metadata": {},
   "outputs": [],
   "source": [
    "# Libs\n",
    "import pandas as pd\n",
    "import numpy as np\n",
    "\n",
    "# Análises\n",
    "import plotly.graph_objects as go\n",
    "from plotly.subplots import make_subplots\n",
    "\n",
    "# Scraping\n",
    "import requests\n",
    "from bs4 import BeautifulSoup\n",
    "\n",
    "# Avisos\n",
    "import warnings\n",
    "warnings.filterwarnings('ignore')"
   ]
  },
  {
   "cell_type": "code",
   "execution_count": 2,
   "metadata": {},
   "outputs": [
    {
     "name": "stdout",
     "output_type": "stream",
     "text": [
      "https://pt.wikipedia.org/wiki/Lista_de_pa%C3%ADses_por_PIB_nominal\n"
     ]
    }
   ],
   "source": [
    "# Site dos dados\n",
    "url = 'https://pt.wikipedia.org/wiki/Lista_de_pa%C3%ADses_por_PIB_nominal'\n",
    "print(url)"
   ]
  },
  {
   "cell_type": "code",
   "execution_count": 7,
   "metadata": {},
   "outputs": [
    {
     "data": {
      "text/plain": [
       "9"
      ]
     },
     "execution_count": 7,
     "metadata": {},
     "output_type": "execute_result"
    }
   ],
   "source": [
    "# Scraping das tabelas\n",
    "tabelas_web = pd.read_html(url)\n",
    "len(tabelas_web)"
   ]
  },
  {
   "cell_type": "code",
   "execution_count": 37,
   "metadata": {},
   "outputs": [
    {
     "data": {
      "text/html": [
       "<div>\n",
       "<style scoped>\n",
       "    .dataframe tbody tr th:only-of-type {\n",
       "        vertical-align: middle;\n",
       "    }\n",
       "\n",
       "    .dataframe tbody tr th {\n",
       "        vertical-align: top;\n",
       "    }\n",
       "\n",
       "    .dataframe thead tr th {\n",
       "        text-align: left;\n",
       "    }\n",
       "</style>\n",
       "<table border=\"1\" class=\"dataframe\">\n",
       "  <thead>\n",
       "    <tr>\n",
       "      <th></th>\n",
       "      <th>País/Território</th>\n",
       "      <th>Região ONU</th>\n",
       "      <th colspan=\"2\" halign=\"left\">FMI[1][25]</th>\n",
       "      <th colspan=\"2\" halign=\"left\">Banco Mundial[26]</th>\n",
       "      <th colspan=\"2\" halign=\"left\">Nações Unidas[27]</th>\n",
       "    </tr>\n",
       "    <tr>\n",
       "      <th></th>\n",
       "      <th>País/Território</th>\n",
       "      <th>Região ONU</th>\n",
       "      <th>Estimativa</th>\n",
       "      <th>Ano</th>\n",
       "      <th>Estimativa</th>\n",
       "      <th>Ano</th>\n",
       "      <th>Estimativa</th>\n",
       "      <th>Ano</th>\n",
       "    </tr>\n",
       "    <tr>\n",
       "      <th></th>\n",
       "      <th>Mundo</th>\n",
       "      <th>—</th>\n",
       "      <th>101,560,901</th>\n",
       "      <th>2022</th>\n",
       "      <th>96,100,091</th>\n",
       "      <th>2021</th>\n",
       "      <th>85,328,323</th>\n",
       "      <th>2020</th>\n",
       "    </tr>\n",
       "  </thead>\n",
       "  <tbody>\n",
       "    <tr>\n",
       "      <th>0</th>\n",
       "      <td>Estados Unidos</td>\n",
       "      <td>América</td>\n",
       "      <td>25035164</td>\n",
       "      <td>2022</td>\n",
       "      <td>22996100</td>\n",
       "      <td>2021</td>\n",
       "      <td>20893746</td>\n",
       "      <td>2020</td>\n",
       "    </tr>\n",
       "    <tr>\n",
       "      <th>1</th>\n",
       "      <td>China</td>\n",
       "      <td>Ásia</td>\n",
       "      <td>18321197</td>\n",
       "      <td>[n 1]2022</td>\n",
       "      <td>17734063</td>\n",
       "      <td>[n 2]2021</td>\n",
       "      <td>14722801</td>\n",
       "      <td>[n 1]2020</td>\n",
       "    </tr>\n",
       "    <tr>\n",
       "      <th>2</th>\n",
       "      <td>Japão</td>\n",
       "      <td>Ásia</td>\n",
       "      <td>4300621</td>\n",
       "      <td>2022</td>\n",
       "      <td>4937422</td>\n",
       "      <td>2021</td>\n",
       "      <td>5057759</td>\n",
       "      <td>2020</td>\n",
       "    </tr>\n",
       "    <tr>\n",
       "      <th>3</th>\n",
       "      <td>Alemanha</td>\n",
       "      <td>Europa</td>\n",
       "      <td>4031149</td>\n",
       "      <td>2022</td>\n",
       "      <td>4223116</td>\n",
       "      <td>2021</td>\n",
       "      <td>3846414</td>\n",
       "      <td>2020</td>\n",
       "    </tr>\n",
       "    <tr>\n",
       "      <th>4</th>\n",
       "      <td>Índia</td>\n",
       "      <td>Ásia</td>\n",
       "      <td>3468566</td>\n",
       "      <td>2022</td>\n",
       "      <td>3173398</td>\n",
       "      <td>2021</td>\n",
       "      <td>2664749</td>\n",
       "      <td>2020</td>\n",
       "    </tr>\n",
       "    <tr>\n",
       "      <th>...</th>\n",
       "      <td>...</td>\n",
       "      <td>...</td>\n",
       "      <td>...</td>\n",
       "      <td>...</td>\n",
       "      <td>...</td>\n",
       "      <td>...</td>\n",
       "      <td>...</td>\n",
       "      <td>...</td>\n",
       "    </tr>\n",
       "    <tr>\n",
       "      <th>211</th>\n",
       "      <td>Palau</td>\n",
       "      <td>Oceania</td>\n",
       "      <td>0000226</td>\n",
       "      <td>2022</td>\n",
       "      <td>0000258</td>\n",
       "      <td>2020</td>\n",
       "      <td>0000264</td>\n",
       "      <td>2020</td>\n",
       "    </tr>\n",
       "    <tr>\n",
       "      <th>212</th>\n",
       "      <td>Kiribati</td>\n",
       "      <td>Oceania</td>\n",
       "      <td>0000207</td>\n",
       "      <td>2022</td>\n",
       "      <td>0000181</td>\n",
       "      <td>2020</td>\n",
       "      <td>0000181</td>\n",
       "      <td>2020</td>\n",
       "    </tr>\n",
       "    <tr>\n",
       "      <th>213</th>\n",
       "      <td>Nauru</td>\n",
       "      <td>Oceania</td>\n",
       "      <td>0000134</td>\n",
       "      <td>2022</td>\n",
       "      <td>0000133</td>\n",
       "      <td>2021</td>\n",
       "      <td>0000135</td>\n",
       "      <td>2020</td>\n",
       "    </tr>\n",
       "    <tr>\n",
       "      <th>214</th>\n",
       "      <td>Montserrat</td>\n",
       "      <td>América</td>\n",
       "      <td>—</td>\n",
       "      <td>—</td>\n",
       "      <td>—</td>\n",
       "      <td>—</td>\n",
       "      <td>0000068</td>\n",
       "      <td>2020</td>\n",
       "    </tr>\n",
       "    <tr>\n",
       "      <th>215</th>\n",
       "      <td>Tuvalu</td>\n",
       "      <td>Oceania</td>\n",
       "      <td>0000064</td>\n",
       "      <td>2022</td>\n",
       "      <td>0000063</td>\n",
       "      <td>2021</td>\n",
       "      <td>0000055</td>\n",
       "      <td>2020</td>\n",
       "    </tr>\n",
       "  </tbody>\n",
       "</table>\n",
       "<p>216 rows × 8 columns</p>\n",
       "</div>"
      ],
      "text/plain": [
       "    País/Território Região ONU  FMI[1][25]            Banco Mundial[26]  \\\n",
       "    País/Território Região ONU  Estimativa        Ano        Estimativa   \n",
       "              Mundo          — 101,560,901       2022        96,100,091   \n",
       "0    Estados Unidos    América    25035164       2022          22996100   \n",
       "1             China       Ásia    18321197  [n 1]2022          17734063   \n",
       "2             Japão       Ásia     4300621       2022           4937422   \n",
       "3          Alemanha     Europa     4031149       2022           4223116   \n",
       "4             Índia       Ásia     3468566       2022           3173398   \n",
       "..              ...        ...         ...        ...               ...   \n",
       "211           Palau    Oceania     0000226       2022           0000258   \n",
       "212        Kiribati    Oceania     0000207       2022           0000181   \n",
       "213           Nauru    Oceania     0000134       2022           0000133   \n",
       "214      Montserrat    América           —          —                 —   \n",
       "215          Tuvalu    Oceania     0000064       2022           0000063   \n",
       "\n",
       "               Nações Unidas[27]             \n",
       "           Ano        Estimativa        Ano  \n",
       "          2021        85,328,323       2020  \n",
       "0         2021          20893746       2020  \n",
       "1    [n 2]2021          14722801  [n 1]2020  \n",
       "2         2021           5057759       2020  \n",
       "3         2021           3846414       2020  \n",
       "4         2021           2664749       2020  \n",
       "..         ...               ...        ...  \n",
       "211       2020           0000264       2020  \n",
       "212       2020           0000181       2020  \n",
       "213       2021           0000135       2020  \n",
       "214          —           0000068       2020  \n",
       "215       2021           0000055       2020  \n",
       "\n",
       "[216 rows x 8 columns]"
      ]
     },
     "execution_count": 37,
     "metadata": {},
     "output_type": "execute_result"
    }
   ],
   "source": [
    "tabelas_web[2]"
   ]
  },
  {
   "cell_type": "code",
   "execution_count": 10,
   "metadata": {},
   "outputs": [],
   "source": [
    "# Tabela PIB\n",
    "'''tabela_pib['Banco Mundial[26]']\n",
    "tabela_pib['FMI[1][25]']\n",
    "tabela_pib['Nações Unidas[27]']\n",
    "tabela_pib['País/Território']\n",
    "tabela_pib['Região ONU']'''"
   ]
  },
  {
   "cell_type": "code",
   "execution_count": 38,
   "metadata": {},
   "outputs": [],
   "source": [
    "# Tabela PIB\n",
    "tabela_pib = tabelas_web[2]\n",
    "tabela_pib['Posição'] = tabela_pib.index"
   ]
  },
  {
   "cell_type": "code",
   "execution_count": 40,
   "metadata": {},
   "outputs": [],
   "source": [
    "tabela_pib = tabela_pib.rename(columns={\"Banco Mundial[26]\":\"Banco Mundial\", \"FMI[1][25]\":\"FMI\", \"Nações Unidas[27]\": \"Nações Unidas\"})"
   ]
  },
  {
   "cell_type": "code",
   "execution_count": 41,
   "metadata": {},
   "outputs": [
    {
     "data": {
      "text/plain": [
       "País/Território  País/Território  Mundo          0\n",
       "Região ONU       Região ONU       —              0\n",
       "FMI              Estimativa       101,560,901    0\n",
       "                 Ano              2022           0\n",
       "Banco Mundial    Estimativa       96,100,091     0\n",
       "                 Ano              2021           0\n",
       "Nações Unidas    Estimativa       85,328,323     0\n",
       "                 Ano              2020           0\n",
       "Posição                                          0\n",
       "dtype: int64"
      ]
     },
     "execution_count": 41,
     "metadata": {},
     "output_type": "execute_result"
    }
   ],
   "source": [
    "# Campos nulos\n",
    "tabela_pib.isnull().sum()"
   ]
  },
  {
   "cell_type": "code",
   "execution_count": 13,
   "metadata": {},
   "outputs": [
    {
     "data": {
      "text/plain": [
       "País/Território    País/Território  Mundo          object\n",
       "Região ONU         Região ONU       —              object\n",
       "FMI[1][25]         Estimativa       101,560,901    object\n",
       "                   Ano              2022           object\n",
       "Banco Mundial[26]  Estimativa       96,100,091     object\n",
       "                   Ano              2021           object\n",
       "Nações Unidas[27]  Estimativa       85,328,323     object\n",
       "                   Ano              2020           object\n",
       "dtype: object"
      ]
     },
     "execution_count": 13,
     "metadata": {},
     "output_type": "execute_result"
    }
   ],
   "source": [
    "# Verificar colunas\n",
    "tabela_pib.dtypes"
   ]
  },
  {
   "cell_type": "code",
   "execution_count": 33,
   "metadata": {},
   "outputs": [
    {
     "ename": "InvalidIndexError",
     "evalue": "(slice(None, None, None), slice(0, 2, None))",
     "output_type": "error",
     "traceback": [
      "\u001b[1;31m---------------------------------------------------------------------------\u001b[0m",
      "\u001b[1;31mInvalidIndexError\u001b[0m                         Traceback (most recent call last)",
      "Cell \u001b[1;32mIn[33], line 2\u001b[0m\n\u001b[0;32m      1\u001b[0m \u001b[38;5;66;03m# Verificar campos\u001b[39;00m\n\u001b[1;32m----> 2\u001b[0m \u001b[43mtabela_pib\u001b[49m\u001b[43m[\u001b[49m\u001b[43m:\u001b[49m\u001b[43m,\u001b[49m\u001b[38;5;241;43m0\u001b[39;49m\u001b[43m:\u001b[49m\u001b[38;5;241;43m2\u001b[39;49m\u001b[43m]\u001b[49m\n",
      "File \u001b[1;32mc:\\Users\\João Pedro Holanda\\AppData\\Local\\Programs\\Python\\Python310\\lib\\site-packages\\pandas\\core\\frame.py:3803\u001b[0m, in \u001b[0;36mDataFrame.__getitem__\u001b[1;34m(self, key)\u001b[0m\n\u001b[0;32m   3801\u001b[0m \u001b[38;5;28;01mif\u001b[39;00m is_single_key:\n\u001b[0;32m   3802\u001b[0m     \u001b[38;5;28;01mif\u001b[39;00m \u001b[38;5;28mself\u001b[39m\u001b[38;5;241m.\u001b[39mcolumns\u001b[38;5;241m.\u001b[39mnlevels \u001b[38;5;241m>\u001b[39m \u001b[38;5;241m1\u001b[39m:\n\u001b[1;32m-> 3803\u001b[0m         \u001b[38;5;28;01mreturn\u001b[39;00m \u001b[38;5;28;43mself\u001b[39;49m\u001b[38;5;241;43m.\u001b[39;49m\u001b[43m_getitem_multilevel\u001b[49m\u001b[43m(\u001b[49m\u001b[43mkey\u001b[49m\u001b[43m)\u001b[49m\n\u001b[0;32m   3804\u001b[0m     indexer \u001b[38;5;241m=\u001b[39m \u001b[38;5;28mself\u001b[39m\u001b[38;5;241m.\u001b[39mcolumns\u001b[38;5;241m.\u001b[39mget_loc(key)\n\u001b[0;32m   3805\u001b[0m     \u001b[38;5;28;01mif\u001b[39;00m is_integer(indexer):\n",
      "File \u001b[1;32mc:\\Users\\João Pedro Holanda\\AppData\\Local\\Programs\\Python\\Python310\\lib\\site-packages\\pandas\\core\\frame.py:3854\u001b[0m, in \u001b[0;36mDataFrame._getitem_multilevel\u001b[1;34m(self, key)\u001b[0m\n\u001b[0;32m   3852\u001b[0m \u001b[38;5;28;01mdef\u001b[39;00m \u001b[38;5;21m_getitem_multilevel\u001b[39m(\u001b[38;5;28mself\u001b[39m, key):\n\u001b[0;32m   3853\u001b[0m     \u001b[38;5;66;03m# self.columns is a MultiIndex\u001b[39;00m\n\u001b[1;32m-> 3854\u001b[0m     loc \u001b[38;5;241m=\u001b[39m \u001b[38;5;28;43mself\u001b[39;49m\u001b[38;5;241;43m.\u001b[39;49m\u001b[43mcolumns\u001b[49m\u001b[38;5;241;43m.\u001b[39;49m\u001b[43mget_loc\u001b[49m\u001b[43m(\u001b[49m\u001b[43mkey\u001b[49m\u001b[43m)\u001b[49m\n\u001b[0;32m   3855\u001b[0m     \u001b[38;5;28;01mif\u001b[39;00m \u001b[38;5;28misinstance\u001b[39m(loc, (\u001b[38;5;28mslice\u001b[39m, np\u001b[38;5;241m.\u001b[39mndarray)):\n\u001b[0;32m   3856\u001b[0m         new_columns \u001b[38;5;241m=\u001b[39m \u001b[38;5;28mself\u001b[39m\u001b[38;5;241m.\u001b[39mcolumns[loc]\n",
      "File \u001b[1;32mc:\\Users\\João Pedro Holanda\\AppData\\Local\\Programs\\Python\\Python310\\lib\\site-packages\\pandas\\core\\indexes\\multi.py:2899\u001b[0m, in \u001b[0;36mMultiIndex.get_loc\u001b[1;34m(self, key, method)\u001b[0m\n\u001b[0;32m   2893\u001b[0m \u001b[38;5;28;01mif\u001b[39;00m method \u001b[38;5;129;01mis\u001b[39;00m \u001b[38;5;129;01mnot\u001b[39;00m \u001b[38;5;28;01mNone\u001b[39;00m:\n\u001b[0;32m   2894\u001b[0m     \u001b[38;5;28;01mraise\u001b[39;00m \u001b[38;5;167;01mNotImplementedError\u001b[39;00m(\n\u001b[0;32m   2895\u001b[0m         \u001b[38;5;124m\"\u001b[39m\u001b[38;5;124monly the default get_loc method is \u001b[39m\u001b[38;5;124m\"\u001b[39m\n\u001b[0;32m   2896\u001b[0m         \u001b[38;5;124m\"\u001b[39m\u001b[38;5;124mcurrently supported for MultiIndex\u001b[39m\u001b[38;5;124m\"\u001b[39m\n\u001b[0;32m   2897\u001b[0m     )\n\u001b[1;32m-> 2899\u001b[0m \u001b[38;5;28;43mself\u001b[39;49m\u001b[38;5;241;43m.\u001b[39;49m\u001b[43m_check_indexing_error\u001b[49m\u001b[43m(\u001b[49m\u001b[43mkey\u001b[49m\u001b[43m)\u001b[49m\n\u001b[0;32m   2901\u001b[0m \u001b[38;5;28;01mdef\u001b[39;00m \u001b[38;5;21m_maybe_to_slice\u001b[39m(loc):\n\u001b[0;32m   2902\u001b[0m \u001b[38;5;250m    \u001b[39m\u001b[38;5;124;03m\"\"\"convert integer indexer to boolean mask or slice if possible\"\"\"\u001b[39;00m\n",
      "File \u001b[1;32mc:\\Users\\João Pedro Holanda\\AppData\\Local\\Programs\\Python\\Python310\\lib\\site-packages\\pandas\\core\\indexes\\multi.py:2582\u001b[0m, in \u001b[0;36mMultiIndex._check_indexing_error\u001b[1;34m(self, key)\u001b[0m\n\u001b[0;32m   2577\u001b[0m \u001b[38;5;28;01mdef\u001b[39;00m \u001b[38;5;21m_check_indexing_error\u001b[39m(\u001b[38;5;28mself\u001b[39m, key) \u001b[38;5;241m-\u001b[39m\u001b[38;5;241m>\u001b[39m \u001b[38;5;28;01mNone\u001b[39;00m:\n\u001b[0;32m   2578\u001b[0m     \u001b[38;5;28;01mif\u001b[39;00m \u001b[38;5;129;01mnot\u001b[39;00m is_hashable(key) \u001b[38;5;129;01mor\u001b[39;00m is_iterator(key):\n\u001b[0;32m   2579\u001b[0m         \u001b[38;5;66;03m# We allow tuples if they are hashable, whereas other Index\u001b[39;00m\n\u001b[0;32m   2580\u001b[0m         \u001b[38;5;66;03m#  subclasses require scalar.\u001b[39;00m\n\u001b[0;32m   2581\u001b[0m         \u001b[38;5;66;03m# We have to explicitly exclude generators, as these are hashable.\u001b[39;00m\n\u001b[1;32m-> 2582\u001b[0m         \u001b[38;5;28;01mraise\u001b[39;00m InvalidIndexError(key)\n",
      "\u001b[1;31mInvalidIndexError\u001b[0m: (slice(None, None, None), slice(0, 2, None))"
     ]
    }
   ],
   "source": [
    "# Verificar campos\n",
    "tabela_pib[:]"
   ]
  },
  {
   "cell_type": "code",
   "execution_count": null,
   "metadata": {},
   "outputs": [],
   "source": []
  }
 ],
 "metadata": {
  "kernelspec": {
   "display_name": "Python 3",
   "language": "python",
   "name": "python3"
  },
  "language_info": {
   "codemirror_mode": {
    "name": "ipython",
    "version": 3
   },
   "file_extension": ".py",
   "mimetype": "text/x-python",
   "name": "python",
   "nbconvert_exporter": "python",
   "pygments_lexer": "ipython3",
   "version": "3.10.4"
  }
 },
 "nbformat": 4,
 "nbformat_minor": 2
}
